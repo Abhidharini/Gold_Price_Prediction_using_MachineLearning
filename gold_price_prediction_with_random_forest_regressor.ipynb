{
 "cells": [
  {
   "cell_type": "markdown",
   "id": "5b9c16a2",
   "metadata": {
    "id": "5b9c16a2",
    "papermill": {
     "duration": 0.00879,
     "end_time": "2023-07-16T15:53:02.477586",
     "exception": false,
     "start_time": "2023-07-16T15:53:02.468796",
     "status": "completed"
    },
    "tags": []
   },
   "source": [
    "### Gold Price Prediction"
   ]
  },
  {
   "cell_type": "code",
   "execution_count": 2,
   "id": "ZIB-h4kUlPEJ",
   "metadata": {
    "colab": {
     "base_uri": "https://localhost:8080/"
    },
    "id": "ZIB-h4kUlPEJ",
    "outputId": "2b19fd14-1cdb-415d-ecaf-f811c9836177"
   },
   "outputs": [
    {
     "name": "stdout",
     "output_type": "stream",
     "text": [
      "Mounted at /content/drive\n"
     ]
    }
   ],
   "source": [
    "from google.colab import drive\n",
    "drive.mount('/content/drive')"
   ]
  },
  {
   "cell_type": "markdown",
   "id": "GQZWI94zwT91",
   "metadata": {
    "id": "GQZWI94zwT91"
   },
   "source": [
    "About Dataset\n",
    "Data set column\n",
    "\n",
    "Date - mm/dd/yyyy\n",
    "SPX - is a free-float weighted measurement stock market index of the 500 largest companies listed on stock exchanges in the United States.\n",
    "GLD - Gold Price\n",
    "USO - United States Oil Fund\n",
    "SLV - Silver Price\n",
    "EUR/USD - currency pair quotation of the Euro against the US\n"
   ]
  },
  {
   "cell_type": "code",
   "execution_count": 3,
   "id": "9a65828b",
   "metadata": {
    "execution": {
     "iopub.execute_input": "2023-07-16T15:53:02.495702Z",
     "iopub.status.busy": "2023-07-16T15:53:02.495294Z",
     "iopub.status.idle": "2023-07-16T15:53:05.075778Z",
     "shell.execute_reply": "2023-07-16T15:53:05.074620Z"
    },
    "id": "9a65828b",
    "papermill": {
     "duration": 2.593172,
     "end_time": "2023-07-16T15:53:05.078813",
     "exception": false,
     "start_time": "2023-07-16T15:53:02.485641",
     "status": "completed"
    },
    "tags": []
   },
   "outputs": [],
   "source": [
    "#importing dependancies\n",
    "import numpy as np\n",
    "import pandas as pd\n",
    "import seaborn as sns\n",
    "import matplotlib.pyplot as plt\n",
    "from  sklearn.model_selection import train_test_split\n",
    "from sklearn.ensemble import RandomForestRegressor\n",
    "from sklearn import metrics\n",
    "from sklearn.preprocessing import StandardScaler"
   ]
  },
  {
   "cell_type": "markdown",
   "id": "4c27bd48",
   "metadata": {
    "id": "4c27bd48",
    "papermill": {
     "duration": 0.008394,
     "end_time": "2023-07-16T15:53:05.095981",
     "exception": false,
     "start_time": "2023-07-16T15:53:05.087587",
     "status": "completed"
    },
    "tags": []
   },
   "source": [
    "## Data Collection and Preprocessing"
   ]
  },
  {
   "cell_type": "code",
   "execution_count": 4,
   "id": "63dc82b2",
   "metadata": {
    "execution": {
     "iopub.execute_input": "2023-07-16T15:53:05.115275Z",
     "iopub.status.busy": "2023-07-16T15:53:05.114819Z",
     "iopub.status.idle": "2023-07-16T15:53:05.148618Z",
     "shell.execute_reply": "2023-07-16T15:53:05.147530Z"
    },
    "id": "63dc82b2",
    "papermill": {
     "duration": 0.047019,
     "end_time": "2023-07-16T15:53:05.151552",
     "exception": false,
     "start_time": "2023-07-16T15:53:05.104533",
     "status": "completed"
    },
    "tags": []
   },
   "outputs": [],
   "source": [
    "gold_data=pd.read_csv('/content/drive/MyDrive/rini_datascience/gold price/gld_price_data.csv')"
   ]
  },
  {
   "cell_type": "code",
   "execution_count": 5,
   "id": "21e9dd42",
   "metadata": {
    "colab": {
     "base_uri": "https://localhost:8080/",
     "height": 206
    },
    "execution": {
     "iopub.execute_input": "2023-07-16T15:53:05.173723Z",
     "iopub.status.busy": "2023-07-16T15:53:05.173201Z",
     "iopub.status.idle": "2023-07-16T15:53:05.203594Z",
     "shell.execute_reply": "2023-07-16T15:53:05.202311Z"
    },
    "id": "21e9dd42",
    "outputId": "d1884cd8-0603-4f21-b77d-66be0d4fa739",
    "papermill": {
     "duration": 0.046214,
     "end_time": "2023-07-16T15:53:05.206930",
     "exception": false,
     "start_time": "2023-07-16T15:53:05.160716",
     "status": "completed"
    },
    "tags": []
   },
   "outputs": [
    {
     "data": {
      "text/html": [
       "\n",
       "  <div id=\"df-acf42919-a3fe-4e02-a9b6-3b626160a3b1\" class=\"colab-df-container\">\n",
       "    <div>\n",
       "<style scoped>\n",
       "    .dataframe tbody tr th:only-of-type {\n",
       "        vertical-align: middle;\n",
       "    }\n",
       "\n",
       "    .dataframe tbody tr th {\n",
       "        vertical-align: top;\n",
       "    }\n",
       "\n",
       "    .dataframe thead th {\n",
       "        text-align: right;\n",
       "    }\n",
       "</style>\n",
       "<table border=\"1\" class=\"dataframe\">\n",
       "  <thead>\n",
       "    <tr style=\"text-align: right;\">\n",
       "      <th></th>\n",
       "      <th>Date</th>\n",
       "      <th>SPX</th>\n",
       "      <th>GLD</th>\n",
       "      <th>USO</th>\n",
       "      <th>SLV</th>\n",
       "      <th>EUR/USD</th>\n",
       "    </tr>\n",
       "  </thead>\n",
       "  <tbody>\n",
       "    <tr>\n",
       "      <th>0</th>\n",
       "      <td>1/2/2008</td>\n",
       "      <td>1447.160034</td>\n",
       "      <td>84.860001</td>\n",
       "      <td>78.470001</td>\n",
       "      <td>15.180</td>\n",
       "      <td>1.471692</td>\n",
       "    </tr>\n",
       "    <tr>\n",
       "      <th>1</th>\n",
       "      <td>1/3/2008</td>\n",
       "      <td>1447.160034</td>\n",
       "      <td>85.570000</td>\n",
       "      <td>78.370003</td>\n",
       "      <td>15.285</td>\n",
       "      <td>1.474491</td>\n",
       "    </tr>\n",
       "    <tr>\n",
       "      <th>2</th>\n",
       "      <td>1/4/2008</td>\n",
       "      <td>1411.630005</td>\n",
       "      <td>85.129997</td>\n",
       "      <td>77.309998</td>\n",
       "      <td>15.167</td>\n",
       "      <td>1.475492</td>\n",
       "    </tr>\n",
       "    <tr>\n",
       "      <th>3</th>\n",
       "      <td>1/7/2008</td>\n",
       "      <td>1416.180054</td>\n",
       "      <td>84.769997</td>\n",
       "      <td>75.500000</td>\n",
       "      <td>15.053</td>\n",
       "      <td>1.468299</td>\n",
       "    </tr>\n",
       "    <tr>\n",
       "      <th>4</th>\n",
       "      <td>1/8/2008</td>\n",
       "      <td>1390.189941</td>\n",
       "      <td>86.779999</td>\n",
       "      <td>76.059998</td>\n",
       "      <td>15.590</td>\n",
       "      <td>1.557099</td>\n",
       "    </tr>\n",
       "  </tbody>\n",
       "</table>\n",
       "</div>\n",
       "    <div class=\"colab-df-buttons\">\n",
       "\n",
       "  <div class=\"colab-df-container\">\n",
       "    <button class=\"colab-df-convert\" onclick=\"convertToInteractive('df-acf42919-a3fe-4e02-a9b6-3b626160a3b1')\"\n",
       "            title=\"Convert this dataframe to an interactive table.\"\n",
       "            style=\"display:none;\">\n",
       "\n",
       "  <svg xmlns=\"http://www.w3.org/2000/svg\" height=\"24px\" viewBox=\"0 -960 960 960\">\n",
       "    <path d=\"M120-120v-720h720v720H120Zm60-500h600v-160H180v160Zm220 220h160v-160H400v160Zm0 220h160v-160H400v160ZM180-400h160v-160H180v160Zm440 0h160v-160H620v160ZM180-180h160v-160H180v160Zm440 0h160v-160H620v160Z\"/>\n",
       "  </svg>\n",
       "    </button>\n",
       "\n",
       "  <style>\n",
       "    .colab-df-container {\n",
       "      display:flex;\n",
       "      gap: 12px;\n",
       "    }\n",
       "\n",
       "    .colab-df-convert {\n",
       "      background-color: #E8F0FE;\n",
       "      border: none;\n",
       "      border-radius: 50%;\n",
       "      cursor: pointer;\n",
       "      display: none;\n",
       "      fill: #1967D2;\n",
       "      height: 32px;\n",
       "      padding: 0 0 0 0;\n",
       "      width: 32px;\n",
       "    }\n",
       "\n",
       "    .colab-df-convert:hover {\n",
       "      background-color: #E2EBFA;\n",
       "      box-shadow: 0px 1px 2px rgba(60, 64, 67, 0.3), 0px 1px 3px 1px rgba(60, 64, 67, 0.15);\n",
       "      fill: #174EA6;\n",
       "    }\n",
       "\n",
       "    .colab-df-buttons div {\n",
       "      margin-bottom: 4px;\n",
       "    }\n",
       "\n",
       "    [theme=dark] .colab-df-convert {\n",
       "      background-color: #3B4455;\n",
       "      fill: #D2E3FC;\n",
       "    }\n",
       "\n",
       "    [theme=dark] .colab-df-convert:hover {\n",
       "      background-color: #434B5C;\n",
       "      box-shadow: 0px 1px 3px 1px rgba(0, 0, 0, 0.15);\n",
       "      filter: drop-shadow(0px 1px 2px rgba(0, 0, 0, 0.3));\n",
       "      fill: #FFFFFF;\n",
       "    }\n",
       "  </style>\n",
       "\n",
       "    <script>\n",
       "      const buttonEl =\n",
       "        document.querySelector('#df-acf42919-a3fe-4e02-a9b6-3b626160a3b1 button.colab-df-convert');\n",
       "      buttonEl.style.display =\n",
       "        google.colab.kernel.accessAllowed ? 'block' : 'none';\n",
       "\n",
       "      async function convertToInteractive(key) {\n",
       "        const element = document.querySelector('#df-acf42919-a3fe-4e02-a9b6-3b626160a3b1');\n",
       "        const dataTable =\n",
       "          await google.colab.kernel.invokeFunction('convertToInteractive',\n",
       "                                                    [key], {});\n",
       "        if (!dataTable) return;\n",
       "\n",
       "        const docLinkHtml = 'Like what you see? Visit the ' +\n",
       "          '<a target=\"_blank\" href=https://colab.research.google.com/notebooks/data_table.ipynb>data table notebook</a>'\n",
       "          + ' to learn more about interactive tables.';\n",
       "        element.innerHTML = '';\n",
       "        dataTable['output_type'] = 'display_data';\n",
       "        await google.colab.output.renderOutput(dataTable, element);\n",
       "        const docLink = document.createElement('div');\n",
       "        docLink.innerHTML = docLinkHtml;\n",
       "        element.appendChild(docLink);\n",
       "      }\n",
       "    </script>\n",
       "  </div>\n",
       "\n",
       "\n",
       "<div id=\"df-080b56cf-e158-4a17-8af7-2ec0a31c2801\">\n",
       "  <button class=\"colab-df-quickchart\" onclick=\"quickchart('df-080b56cf-e158-4a17-8af7-2ec0a31c2801')\"\n",
       "            title=\"Suggest charts.\"\n",
       "            style=\"display:none;\">\n",
       "\n",
       "<svg xmlns=\"http://www.w3.org/2000/svg\" height=\"24px\"viewBox=\"0 0 24 24\"\n",
       "     width=\"24px\">\n",
       "    <g>\n",
       "        <path d=\"M19 3H5c-1.1 0-2 .9-2 2v14c0 1.1.9 2 2 2h14c1.1 0 2-.9 2-2V5c0-1.1-.9-2-2-2zM9 17H7v-7h2v7zm4 0h-2V7h2v10zm4 0h-2v-4h2v4z\"/>\n",
       "    </g>\n",
       "</svg>\n",
       "  </button>\n",
       "\n",
       "<style>\n",
       "  .colab-df-quickchart {\n",
       "      --bg-color: #E8F0FE;\n",
       "      --fill-color: #1967D2;\n",
       "      --hover-bg-color: #E2EBFA;\n",
       "      --hover-fill-color: #174EA6;\n",
       "      --disabled-fill-color: #AAA;\n",
       "      --disabled-bg-color: #DDD;\n",
       "  }\n",
       "\n",
       "  [theme=dark] .colab-df-quickchart {\n",
       "      --bg-color: #3B4455;\n",
       "      --fill-color: #D2E3FC;\n",
       "      --hover-bg-color: #434B5C;\n",
       "      --hover-fill-color: #FFFFFF;\n",
       "      --disabled-bg-color: #3B4455;\n",
       "      --disabled-fill-color: #666;\n",
       "  }\n",
       "\n",
       "  .colab-df-quickchart {\n",
       "    background-color: var(--bg-color);\n",
       "    border: none;\n",
       "    border-radius: 50%;\n",
       "    cursor: pointer;\n",
       "    display: none;\n",
       "    fill: var(--fill-color);\n",
       "    height: 32px;\n",
       "    padding: 0;\n",
       "    width: 32px;\n",
       "  }\n",
       "\n",
       "  .colab-df-quickchart:hover {\n",
       "    background-color: var(--hover-bg-color);\n",
       "    box-shadow: 0 1px 2px rgba(60, 64, 67, 0.3), 0 1px 3px 1px rgba(60, 64, 67, 0.15);\n",
       "    fill: var(--button-hover-fill-color);\n",
       "  }\n",
       "\n",
       "  .colab-df-quickchart-complete:disabled,\n",
       "  .colab-df-quickchart-complete:disabled:hover {\n",
       "    background-color: var(--disabled-bg-color);\n",
       "    fill: var(--disabled-fill-color);\n",
       "    box-shadow: none;\n",
       "  }\n",
       "\n",
       "  .colab-df-spinner {\n",
       "    border: 2px solid var(--fill-color);\n",
       "    border-color: transparent;\n",
       "    border-bottom-color: var(--fill-color);\n",
       "    animation:\n",
       "      spin 1s steps(1) infinite;\n",
       "  }\n",
       "\n",
       "  @keyframes spin {\n",
       "    0% {\n",
       "      border-color: transparent;\n",
       "      border-bottom-color: var(--fill-color);\n",
       "      border-left-color: var(--fill-color);\n",
       "    }\n",
       "    20% {\n",
       "      border-color: transparent;\n",
       "      border-left-color: var(--fill-color);\n",
       "      border-top-color: var(--fill-color);\n",
       "    }\n",
       "    30% {\n",
       "      border-color: transparent;\n",
       "      border-left-color: var(--fill-color);\n",
       "      border-top-color: var(--fill-color);\n",
       "      border-right-color: var(--fill-color);\n",
       "    }\n",
       "    40% {\n",
       "      border-color: transparent;\n",
       "      border-right-color: var(--fill-color);\n",
       "      border-top-color: var(--fill-color);\n",
       "    }\n",
       "    60% {\n",
       "      border-color: transparent;\n",
       "      border-right-color: var(--fill-color);\n",
       "    }\n",
       "    80% {\n",
       "      border-color: transparent;\n",
       "      border-right-color: var(--fill-color);\n",
       "      border-bottom-color: var(--fill-color);\n",
       "    }\n",
       "    90% {\n",
       "      border-color: transparent;\n",
       "      border-bottom-color: var(--fill-color);\n",
       "    }\n",
       "  }\n",
       "</style>\n",
       "\n",
       "  <script>\n",
       "    async function quickchart(key) {\n",
       "      const quickchartButtonEl =\n",
       "        document.querySelector('#' + key + ' button');\n",
       "      quickchartButtonEl.disabled = true;  // To prevent multiple clicks.\n",
       "      quickchartButtonEl.classList.add('colab-df-spinner');\n",
       "      try {\n",
       "        const charts = await google.colab.kernel.invokeFunction(\n",
       "            'suggestCharts', [key], {});\n",
       "      } catch (error) {\n",
       "        console.error('Error during call to suggestCharts:', error);\n",
       "      }\n",
       "      quickchartButtonEl.classList.remove('colab-df-spinner');\n",
       "      quickchartButtonEl.classList.add('colab-df-quickchart-complete');\n",
       "    }\n",
       "    (() => {\n",
       "      let quickchartButtonEl =\n",
       "        document.querySelector('#df-080b56cf-e158-4a17-8af7-2ec0a31c2801 button');\n",
       "      quickchartButtonEl.style.display =\n",
       "        google.colab.kernel.accessAllowed ? 'block' : 'none';\n",
       "    })();\n",
       "  </script>\n",
       "</div>\n",
       "    </div>\n",
       "  </div>\n"
      ],
      "text/plain": [
       "       Date          SPX        GLD        USO     SLV   EUR/USD\n",
       "0  1/2/2008  1447.160034  84.860001  78.470001  15.180  1.471692\n",
       "1  1/3/2008  1447.160034  85.570000  78.370003  15.285  1.474491\n",
       "2  1/4/2008  1411.630005  85.129997  77.309998  15.167  1.475492\n",
       "3  1/7/2008  1416.180054  84.769997  75.500000  15.053  1.468299\n",
       "4  1/8/2008  1390.189941  86.779999  76.059998  15.590  1.557099"
      ]
     },
     "execution_count": 5,
     "metadata": {},
     "output_type": "execute_result"
    }
   ],
   "source": [
    "gold_data.head()"
   ]
  },
  {
   "cell_type": "code",
   "execution_count": 6,
   "id": "fb4bd7f6",
   "metadata": {
    "colab": {
     "base_uri": "https://localhost:8080/"
    },
    "execution": {
     "iopub.execute_input": "2023-07-16T15:53:05.234378Z",
     "iopub.status.busy": "2023-07-16T15:53:05.233155Z",
     "iopub.status.idle": "2023-07-16T15:53:05.273205Z",
     "shell.execute_reply": "2023-07-16T15:53:05.271337Z"
    },
    "id": "fb4bd7f6",
    "outputId": "3d25796c-6f7b-40ce-f8fc-857592a4ee3a",
    "papermill": {
     "duration": 0.058267,
     "end_time": "2023-07-16T15:53:05.276854",
     "exception": false,
     "start_time": "2023-07-16T15:53:05.218587",
     "status": "completed"
    },
    "tags": []
   },
   "outputs": [
    {
     "name": "stdout",
     "output_type": "stream",
     "text": [
      "<class 'pandas.core.frame.DataFrame'>\n",
      "RangeIndex: 2290 entries, 0 to 2289\n",
      "Data columns (total 6 columns):\n",
      " #   Column   Non-Null Count  Dtype  \n",
      "---  ------   --------------  -----  \n",
      " 0   Date     2290 non-null   object \n",
      " 1   SPX      2290 non-null   float64\n",
      " 2   GLD      2290 non-null   float64\n",
      " 3   USO      2290 non-null   float64\n",
      " 4   SLV      2290 non-null   float64\n",
      " 5   EUR/USD  2290 non-null   float64\n",
      "dtypes: float64(5), object(1)\n",
      "memory usage: 107.5+ KB\n"
     ]
    }
   ],
   "source": [
    "gold_data.info()"
   ]
  },
  {
   "cell_type": "code",
   "execution_count": 7,
   "id": "703e5248",
   "metadata": {
    "colab": {
     "base_uri": "https://localhost:8080/"
    },
    "execution": {
     "iopub.execute_input": "2023-07-16T15:53:05.304882Z",
     "iopub.status.busy": "2023-07-16T15:53:05.303107Z",
     "iopub.status.idle": "2023-07-16T15:53:05.312592Z",
     "shell.execute_reply": "2023-07-16T15:53:05.311408Z"
    },
    "id": "703e5248",
    "outputId": "f66251f5-44e9-4344-aaf9-4c8a51cfeefc",
    "papermill": {
     "duration": 0.026777,
     "end_time": "2023-07-16T15:53:05.315645",
     "exception": false,
     "start_time": "2023-07-16T15:53:05.288868",
     "status": "completed"
    },
    "tags": []
   },
   "outputs": [
    {
     "data": {
      "text/plain": [
       "(2290, 6)"
      ]
     },
     "execution_count": 7,
     "metadata": {},
     "output_type": "execute_result"
    }
   ],
   "source": [
    "gold_data.shape"
   ]
  },
  {
   "cell_type": "code",
   "execution_count": 8,
   "id": "af8c123e",
   "metadata": {
    "colab": {
     "base_uri": "https://localhost:8080/"
    },
    "execution": {
     "iopub.execute_input": "2023-07-16T15:53:05.345293Z",
     "iopub.status.busy": "2023-07-16T15:53:05.343562Z",
     "iopub.status.idle": "2023-07-16T15:53:05.358097Z",
     "shell.execute_reply": "2023-07-16T15:53:05.356886Z"
    },
    "id": "af8c123e",
    "outputId": "e81924f7-f3e0-4f36-9ebc-5ea532a882f9",
    "papermill": {
     "duration": 0.030574,
     "end_time": "2023-07-16T15:53:05.361233",
     "exception": false,
     "start_time": "2023-07-16T15:53:05.330659",
     "status": "completed"
    },
    "tags": []
   },
   "outputs": [
    {
     "data": {
      "text/plain": [
       "Date       0.0\n",
       "SPX        0.0\n",
       "GLD        0.0\n",
       "USO        0.0\n",
       "SLV        0.0\n",
       "EUR/USD    0.0\n",
       "dtype: float64"
      ]
     },
     "execution_count": 8,
     "metadata": {},
     "output_type": "execute_result"
    }
   ],
   "source": [
    "#checking for null values\n",
    "gold_data.isnull().mean()"
   ]
  },
  {
   "cell_type": "markdown",
   "id": "a879bd12",
   "metadata": {
    "id": "a879bd12",
    "papermill": {
     "duration": 0.008821,
     "end_time": "2023-07-16T15:53:05.379164",
     "exception": false,
     "start_time": "2023-07-16T15:53:05.370343",
     "status": "completed"
    },
    "tags": []
   },
   "source": [
    "Correlation\n",
    "1. Positive Correlation\n",
    "2. Negative Correlation"
   ]
  },
  {
   "cell_type": "code",
   "execution_count": 9,
   "id": "5c761d90",
   "metadata": {
    "colab": {
     "base_uri": "https://localhost:8080/"
    },
    "execution": {
     "iopub.execute_input": "2023-07-16T15:53:05.402600Z",
     "iopub.status.busy": "2023-07-16T15:53:05.401593Z",
     "iopub.status.idle": "2023-07-16T15:53:05.413500Z",
     "shell.execute_reply": "2023-07-16T15:53:05.412213Z"
    },
    "id": "5c761d90",
    "outputId": "f0cf88ec-2f7c-4833-9086-18f145bba3f6",
    "papermill": {
     "duration": 0.027867,
     "end_time": "2023-07-16T15:53:05.416653",
     "exception": false,
     "start_time": "2023-07-16T15:53:05.388786",
     "status": "completed"
    },
    "tags": []
   },
   "outputs": [
    {
     "name": "stderr",
     "output_type": "stream",
     "text": [
      "<ipython-input-9-b9d572e5c3ef>:1: FutureWarning: The default value of numeric_only in DataFrame.corr is deprecated. In a future version, it will default to False. Select only valid columns or specify the value of numeric_only to silence this warning.\n",
      "  correlation = gold_data.corr()\n"
     ]
    }
   ],
   "source": [
    "correlation = gold_data.corr()"
   ]
  },
  {
   "cell_type": "code",
   "execution_count": 10,
   "id": "6dd099c9",
   "metadata": {
    "colab": {
     "base_uri": "https://localhost:8080/",
     "height": 367
    },
    "execution": {
     "iopub.execute_input": "2023-07-16T15:53:05.447939Z",
     "iopub.status.busy": "2023-07-16T15:53:05.446938Z",
     "iopub.status.idle": "2023-07-16T15:53:05.978797Z",
     "shell.execute_reply": "2023-07-16T15:53:05.977505Z"
    },
    "id": "6dd099c9",
    "outputId": "d7295340-0d05-4733-ae34-3d28da1b1c39",
    "papermill": {
     "duration": 0.55552,
     "end_time": "2023-07-16T15:53:05.981590",
     "exception": false,
     "start_time": "2023-07-16T15:53:05.426070",
     "status": "completed"
    },
    "tags": []
   },
   "outputs": [
    {
     "data": {
      "text/plain": [
       "<Axes: >"
      ]
     },
     "execution_count": 10,
     "metadata": {},
     "output_type": "execute_result"
    },
    {
     "data": {
      "image/png": "[encoded data removed]",
      "text/plain": [
       "<Figure size 400x400 with 2 Axes>"
      ]
     },
     "metadata": {},
     "output_type": "display_data"
    }
   ],
   "source": [
    "plt.figure(figsize = (4,4))\n",
    "sns.heatmap(correlation, cbar=True, square=True,\n",
    "            fmt='.1f',annot=True, annot_kws={'size':8}, cmap='Blues')"
   ]
  },
  {
   "cell_type": "code",
   "execution_count": 11,
   "id": "f6717a0e",
   "metadata": {
    "execution": {
     "iopub.execute_input": "2023-07-16T15:53:06.005580Z",
     "iopub.status.busy": "2023-07-16T15:53:06.004029Z",
     "iopub.status.idle": "2023-07-16T15:53:06.014880Z",
     "shell.execute_reply": "2023-07-16T15:53:06.013300Z"
    },
    "id": "f6717a0e",
    "papermill": {
     "duration": 0.026145,
     "end_time": "2023-07-16T15:53:06.017824",
     "exception": false,
     "start_time": "2023-07-16T15:53:05.991679",
     "status": "completed"
    },
    "tags": []
   },
   "outputs": [],
   "source": [
    "gold_data=gold_data.drop(columns='Date',axis=1)"
   ]
  },
  {
   "cell_type": "code",
   "execution_count": 12,
   "id": "0ef97a30",
   "metadata": {
    "colab": {
     "base_uri": "https://localhost:8080/",
     "height": 523
    },
    "execution": {
     "iopub.execute_input": "2023-07-16T15:53:06.041371Z",
     "iopub.status.busy": "2023-07-16T15:53:06.040913Z",
     "iopub.status.idle": "2023-07-16T15:53:06.580452Z",
     "shell.execute_reply": "2023-07-16T15:53:06.578847Z"
    },
    "id": "0ef97a30",
    "outputId": "5f1dbbb3-c0f0-4d9a-bb53-77a8f90ded79",
    "papermill": {
     "duration": 0.554802,
     "end_time": "2023-07-16T15:53:06.583557",
     "exception": false,
     "start_time": "2023-07-16T15:53:06.028755",
     "status": "completed"
    },
    "tags": []
   },
   "outputs": [
    {
     "data": {
      "text/plain": [
       "<seaborn.axisgrid.FacetGrid at 0x798ef164dd80>"
      ]
     },
     "execution_count": 12,
     "metadata": {},
     "output_type": "execute_result"
    },
    {
     "data": {
      "image/png": "[encoded data removed]",
      "text/plain": [
       "<Figure size 500x500 with 1 Axes>"
      ]
     },
     "metadata": {},
     "output_type": "display_data"
    }
   ],
   "source": [
    "sns.displot(gold_data['GLD'],color='skyBlue')"
   ]
  },
  {
   "cell_type": "markdown",
   "id": "90d8e4f3",
   "metadata": {
    "id": "90d8e4f3",
    "papermill": {
     "duration": 0.009872,
     "end_time": "2023-07-16T15:53:06.604021",
     "exception": false,
     "start_time": "2023-07-16T15:53:06.594149",
     "status": "completed"
    },
    "tags": []
   },
   "source": [
    "## Spliting the data into Test and Train data"
   ]
  },
  {
   "cell_type": "code",
   "execution_count": 13,
   "id": "e41fb4d2",
   "metadata": {
    "execution": {
     "iopub.execute_input": "2023-07-16T15:53:06.628601Z",
     "iopub.status.busy": "2023-07-16T15:53:06.628131Z",
     "iopub.status.idle": "2023-07-16T15:53:06.634818Z",
     "shell.execute_reply": "2023-07-16T15:53:06.633828Z"
    },
    "id": "e41fb4d2",
    "papermill": {
     "duration": 0.022157,
     "end_time": "2023-07-16T15:53:06.637177",
     "exception": false,
     "start_time": "2023-07-16T15:53:06.615020",
     "status": "completed"
    },
    "tags": []
   },
   "outputs": [],
   "source": [
    "x = gold_data.drop(['GLD'],axis=1)\n",
    "y = gold_data['GLD']"
   ]
  },
  {
   "cell_type": "code",
   "execution_count": 14,
   "id": "ed6f3549",
   "metadata": {
    "execution": {
     "iopub.execute_input": "2023-07-16T15:53:06.660215Z",
     "iopub.status.busy": "2023-07-16T15:53:06.659741Z",
     "iopub.status.idle": "2023-07-16T15:53:06.666451Z",
     "shell.execute_reply": "2023-07-16T15:53:06.664828Z"
    },
    "id": "ed6f3549",
    "papermill": {
     "duration": 0.020887,
     "end_time": "2023-07-16T15:53:06.668730",
     "exception": false,
     "start_time": "2023-07-16T15:53:06.647843",
     "status": "completed"
    },
    "tags": []
   },
   "outputs": [],
   "source": [
    "scaler=StandardScaler()"
   ]
  },
  {
   "cell_type": "code",
   "execution_count": 15,
   "id": "42d8dc7b",
   "metadata": {
    "execution": {
     "iopub.execute_input": "2023-07-16T15:53:06.691529Z",
     "iopub.status.busy": "2023-07-16T15:53:06.691052Z",
     "iopub.status.idle": "2023-07-16T15:53:06.702745Z",
     "shell.execute_reply": "2023-07-16T15:53:06.700847Z"
    },
    "id": "42d8dc7b",
    "papermill": {
     "duration": 0.026406,
     "end_time": "2023-07-16T15:53:06.705600",
     "exception": false,
     "start_time": "2023-07-16T15:53:06.679194",
     "status": "completed"
    },
    "tags": []
   },
   "outputs": [],
   "source": [
    "#standardizing the data\n",
    "x=scaler.fit_transform(x)"
   ]
  },
  {
   "cell_type": "code",
   "execution_count": 16,
   "id": "76549d46",
   "metadata": {
    "execution": {
     "iopub.execute_input": "2023-07-16T15:53:06.728826Z",
     "iopub.status.busy": "2023-07-16T15:53:06.728410Z",
     "iopub.status.idle": "2023-07-16T15:53:06.736596Z",
     "shell.execute_reply": "2023-07-16T15:53:06.735461Z"
    },
    "id": "76549d46",
    "papermill": {
     "duration": 0.022578,
     "end_time": "2023-07-16T15:53:06.738943",
     "exception": false,
     "start_time": "2023-07-16T15:53:06.716365",
     "status": "completed"
    },
    "tags": []
   },
   "outputs": [],
   "source": [
    "x_train,x_test,y_train,y_test = train_test_split(x,y,test_size=0.1,random_state=52)"
   ]
  },
  {
   "cell_type": "code",
   "execution_count": 17,
   "id": "18bc3d57",
   "metadata": {
    "colab": {
     "base_uri": "https://localhost:8080/",
     "height": 74
    },
    "execution": {
     "iopub.execute_input": "2023-07-16T15:53:06.762385Z",
     "iopub.status.busy": "2023-07-16T15:53:06.761931Z",
     "iopub.status.idle": "2023-07-16T15:53:07.805373Z",
     "shell.execute_reply": "2023-07-16T15:53:07.803593Z"
    },
    "id": "18bc3d57",
    "outputId": "49053b01-d8c2-401f-fb9a-f2befeaf9aee",
    "papermill": {
     "duration": 1.058663,
     "end_time": "2023-07-16T15:53:07.808416",
     "exception": false,
     "start_time": "2023-07-16T15:53:06.749753",
     "status": "completed"
    },
    "tags": []
   },
   "outputs": [
    {
     "data": {
      "text/html": [
       "<style>#sk-container-id-1 {color: black;background-color: white;}#sk-container-id-1 pre{padding: 0;}#sk-container-id-1 div.sk-toggleable {background-color: white;}#sk-container-id-1 label.sk-toggleable__label {cursor: pointer;display: block;width: 100%;margin-bottom: 0;padding: 0.3em;box-sizing: border-box;text-align: center;}#sk-container-id-1 label.sk-toggleable__label-arrow:before {content: \"▸\";float: left;margin-right: 0.25em;color: #696969;}#sk-container-id-1 label.sk-toggleable__label-arrow:hover:before {color: black;}#sk-container-id-1 div.sk-estimator:hover label.sk-toggleable__label-arrow:before {color: black;}#sk-container-id-1 div.sk-toggleable__content {max-height: 0;max-width: 0;overflow: hidden;text-align: left;background-color: #f0f8ff;}#sk-container-id-1 div.sk-toggleable__content pre {margin: 0.2em;color: black;border-radius: 0.25em;background-color: #f0f8ff;}#sk-container-id-1 input.sk-toggleable__control:checked~div.sk-toggleable__content {max-height: 200px;max-width: 100%;overflow: auto;}#sk-container-id-1 input.sk-toggleable__control:checked~label.sk-toggleable__label-arrow:before {content: \"▾\";}#sk-container-id-1 div.sk-estimator input.sk-toggleable__control:checked~label.sk-toggleable__label {background-color: #d4ebff;}#sk-container-id-1 div.sk-label input.sk-toggleable__control:checked~label.sk-toggleable__label {background-color: #d4ebff;}#sk-container-id-1 input.sk-hidden--visually {border: 0;clip: rect(1px 1px 1px 1px);clip: rect(1px, 1px, 1px, 1px);height: 1px;margin: -1px;overflow: hidden;padding: 0;position: absolute;width: 1px;}#sk-container-id-1 div.sk-estimator {font-family: monospace;background-color: #f0f8ff;border: 1px dotted black;border-radius: 0.25em;box-sizing: border-box;margin-bottom: 0.5em;}#sk-container-id-1 div.sk-estimator:hover {background-color: #d4ebff;}#sk-container-id-1 div.sk-parallel-item::after {content: \"\";width: 100%;border-bottom: 1px solid gray;flex-grow: 1;}#sk-container-id-1 div.sk-label:hover label.sk-toggleable__label {background-color: #d4ebff;}#sk-container-id-1 div.sk-serial::before {content: \"\";position: absolute;border-left: 1px solid gray;box-sizing: border-box;top: 0;bottom: 0;left: 50%;z-index: 0;}#sk-container-id-1 div.sk-serial {display: flex;flex-direction: column;align-items: center;background-color: white;padding-right: 0.2em;padding-left: 0.2em;position: relative;}#sk-container-id-1 div.sk-item {position: relative;z-index: 1;}#sk-container-id-1 div.sk-parallel {display: flex;align-items: stretch;justify-content: center;background-color: white;position: relative;}#sk-container-id-1 div.sk-item::before, #sk-container-id-1 div.sk-parallel-item::before {content: \"\";position: absolute;border-left: 1px solid gray;box-sizing: border-box;top: 0;bottom: 0;left: 50%;z-index: -1;}#sk-container-id-1 div.sk-parallel-item {display: flex;flex-direction: column;z-index: 1;position: relative;background-color: white;}#sk-container-id-1 div.sk-parallel-item:first-child::after {align-self: flex-end;width: 50%;}#sk-container-id-1 div.sk-parallel-item:last-child::after {align-self: flex-start;width: 50%;}#sk-container-id-1 div.sk-parallel-item:only-child::after {width: 0;}#sk-container-id-1 div.sk-dashed-wrapped {border: 1px dashed gray;margin: 0 0.4em 0.5em 0.4em;box-sizing: border-box;padding-bottom: 0.4em;background-color: white;}#sk-container-id-1 div.sk-label label {font-family: monospace;font-weight: bold;display: inline-block;line-height: 1.2em;}#sk-container-id-1 div.sk-label-container {text-align: center;}#sk-container-id-1 div.sk-container {/* jupyter's `normalize.less` sets `[hidden] { display: none; }` but bootstrap.min.css set `[hidden] { display: none !important; }` so we also need the `!important` here to be able to override the default hidden behavior on the sphinx rendered scikit-learn.org. See: https://github.com/scikit-learn/scikit-learn/issues/21755 */display: inline-block !important;position: relative;}#sk-container-id-1 div.sk-text-repr-fallback {display: none;}</style><div id=\"sk-container-id-1\" class=\"sk-top-container\"><div class=\"sk-text-repr-fallback\"><pre>RandomForestRegressor(n_estimators=120)</pre><b>In a Jupyter environment, please rerun this cell to show the HTML representation or trust the notebook. <br />On GitHub, the HTML representation is unable to render, please try loading this page with nbviewer.org.</b></div><div class=\"sk-container\" hidden><div class=\"sk-item\"><div class=\"sk-estimator sk-toggleable\"><input class=\"sk-toggleable__control sk-hidden--visually\" id=\"sk-estimator-id-1\" type=\"checkbox\" checked><label for=\"sk-estimator-id-1\" class=\"sk-toggleable__label sk-toggleable__label-arrow\">RandomForestRegressor</label><div class=\"sk-toggleable__content\"><pre>RandomForestRegressor(n_estimators=120)</pre></div></div></div></div></div>"
      ],
      "text/plain": [
       "RandomForestRegressor(n_estimators=120)"
      ]
     },
     "execution_count": 17,
     "metadata": {},
     "output_type": "execute_result"
    }
   ],
   "source": [
    "regressor = RandomForestRegressor(n_estimators=120)\n",
    "regressor.fit(x_train,y_train)"
   ]
  },
  {
   "cell_type": "markdown",
   "id": "1885c979",
   "metadata": {
    "id": "1885c979",
    "papermill": {
     "duration": 0.011783,
     "end_time": "2023-07-16T15:53:07.832499",
     "exception": false,
     "start_time": "2023-07-16T15:53:07.820716",
     "status": "completed"
    },
    "tags": []
   },
   "source": [
    "## Prediction"
   ]
  },
  {
   "cell_type": "code",
   "execution_count": 18,
   "id": "ac232fb8",
   "metadata": {
    "colab": {
     "base_uri": "https://localhost:8080/"
    },
    "execution": {
     "iopub.execute_input": "2023-07-16T15:53:07.857391Z",
     "iopub.status.busy": "2023-07-16T15:53:07.856375Z",
     "iopub.status.idle": "2023-07-16T15:53:07.891643Z",
     "shell.execute_reply": "2023-07-16T15:53:07.890099Z"
    },
    "id": "ac232fb8",
    "outputId": "896b8811-784b-4d21-8c4b-f83486d1fae8",
    "papermill": {
     "duration": 0.051064,
     "end_time": "2023-07-16T15:53:07.894661",
     "exception": false,
     "start_time": "2023-07-16T15:53:07.843597",
     "status": "completed"
    },
    "tags": []
   },
   "outputs": [
    {
     "name": "stdout",
     "output_type": "stream",
     "text": [
      "[118.99874947 117.72191502 160.02925018 117.87874994 105.50633352\n",
      " 128.82875094  86.23591493  92.55508223 157.17025142 118.92341486\n",
      " 111.67324988 163.7447489   87.22499797  87.60924908 115.22708267\n",
      " 126.33233415  85.84449982 141.4053338   93.04158375 109.12416617\n",
      " 145.47766823  90.71458428 124.85599981 135.11049825 124.14133274\n",
      " 118.50566792 120.71641706  89.45408198 104.03783336 177.15225262\n",
      " 111.86400018 107.1568338  111.18333263 128.48024907 116.98741664\n",
      " 120.43016639 160.98591447 119.94841558 155.0752502  121.45666588\n",
      " 114.3124988   91.44899959 113.11558293 120.27799945 112.45225068\n",
      "  91.76766816 130.20666581 128.97466835  88.29399957 176.78999714\n",
      " 121.29775104 130.37416694 131.61375327 117.17641741 155.84583343\n",
      " 139.33366582 114.55833247 159.334999   136.73858025 167.70274853\n",
      "  93.82800087 106.01491738 132.04650006 102.00558393 156.987252\n",
      " 127.19891528 118.23508308 122.79433228 132.97666838 160.69124813\n",
      " 125.83475015  71.68750122  91.42449983 124.72083247 107.18091633\n",
      " 104.54816584 135.50583476 151.86825028 121.33649972 120.96641558\n",
      " 151.15991737 119.84991833 151.40358646 162.01483664 160.88466582\n",
      " 120.58491669 132.37524978 122.07958382  90.51650024  92.74199924\n",
      "  85.97399953 113.4812509  117.37594983 135.72883453  88.86916593\n",
      " 113.22066704 168.07908572 137.67650038  71.84491722 106.70733208\n",
      " 168.44941257 152.69816806 107.17499967 171.37725077  91.56433314\n",
      " 121.39791598 166.83791533  96.41474911 113.32100145 120.53583501\n",
      " 106.9859993  121.17933391 107.89608362 126.79558196 163.18816788\n",
      " 124.64541737 127.60791815 114.36133358 141.67408341  91.46424993\n",
      " 127.04133158 126.66516639 119.73408365 111.20108343 120.18849988\n",
      " 120.72483512 117.76666798 122.82341634 146.34391847 158.91075305\n",
      " 119.18974979 124.18258283 165.79199992 132.88816817 160.141834\n",
      " 104.40183257 114.21666681 117.42216664 165.95883598 122.71633328\n",
      " 128.37591768 121.9175012  118.92175009 147.04841531 116.29300049\n",
      " 162.05741602 113.5881671   91.05908253 117.10558345 125.52525198\n",
      " 121.57775039 168.14916582  85.83174801 124.44458466  94.75258504\n",
      " 122.77391693  92.66941633 125.77866653 165.10416651 112.04508404\n",
      " 119.01083402 108.85599914  76.39541756 162.22116552 112.12725024\n",
      " 122.65408285 118.69775163 119.70916738 116.75849956  87.62058269\n",
      " 115.30700126 146.69274834  88.59266712  84.29308239 125.37308241\n",
      "  90.06433265  84.71083166 125.34574984 121.0697497  122.60641715\n",
      " 126.55749983 153.34566624 120.25133391 108.12616559  98.24683301\n",
      " 121.31316692 119.95266784 115.71333309 115.51233244 126.88758329\n",
      "  76.47058325 151.41274798  86.18699816 123.19299988 108.63799984\n",
      " 133.69183219 103.41591623 115.66491707 109.27774898  89.79891699\n",
      " 124.36758343 123.3744165  167.49716581 128.51416458 131.13983522\n",
      " 155.98091862  89.2213323  105.19358382 123.34258137 107.12008308\n",
      " 152.56658215 121.17608272 149.34958519  83.47816519 119.85033399\n",
      "  91.38308169 121.02841652 127.5981648  113.63775012 102.22008345\n",
      " 116.67708302 167.44774924 112.93716754 120.90341798 120.78033378\n",
      "  88.3094173  123.68691611 147.59058433 159.47733367]\n"
     ]
    }
   ],
   "source": [
    "test_data_prediction = regressor.predict(x_test)\n",
    "print(test_data_prediction)"
   ]
  },
  {
   "cell_type": "code",
   "execution_count": 24,
   "id": "fIv2CyQDmKia",
   "metadata": {
    "colab": {
     "base_uri": "https://localhost:8080/"
    },
    "id": "fIv2CyQDmKia",
    "outputId": "d0951c2a-1e44-4719-8633-5c52917daab4"
   },
   "outputs": [
    {
     "name": "stdout",
     "output_type": "stream",
     "text": [
      "1.298162657678315\n",
      "3.687775547366565\n"
     ]
    }
   ],
   "source": [
    "from sklearn.metrics import mean_squared_error\n",
    "from sklearn.metrics import mean_absolute_error\n",
    "print(mean_absolute_error(y_test, test_data_prediction))\n",
    "print(mean_squared_error(y_test, test_data_prediction))"
   ]
  },
  {
   "cell_type": "code",
   "execution_count": 19,
   "id": "4dc83e47",
   "metadata": {
    "colab": {
     "base_uri": "https://localhost:8080/"
    },
    "execution": {
     "iopub.execute_input": "2023-07-16T15:53:07.919015Z",
     "iopub.status.busy": "2023-07-16T15:53:07.918562Z",
     "iopub.status.idle": "2023-07-16T15:53:07.928349Z",
     "shell.execute_reply": "2023-07-16T15:53:07.926133Z"
    },
    "id": "4dc83e47",
    "outputId": "0e678c33-3cc2-4ae3-9941-debeda051ca4",
    "papermill": {
     "duration": 0.025374,
     "end_time": "2023-07-16T15:53:07.931200",
     "exception": false,
     "start_time": "2023-07-16T15:53:07.905826",
     "status": "completed"
    },
    "tags": []
   },
   "outputs": [
    {
     "name": "stdout",
     "output_type": "stream",
     "text": [
      "R squared error: 0.9932508581583545 \n"
     ]
    }
   ],
   "source": [
    "# R squared error\n",
    "error_score = metrics.r2_score(y_test, test_data_prediction)\n",
    "print(f\"R squared error: {error_score} \")"
   ]
  },
  {
   "cell_type": "code",
   "execution_count": 20,
   "id": "7f0df342",
   "metadata": {
    "execution": {
     "iopub.execute_input": "2023-07-16T15:53:07.955536Z",
     "iopub.status.busy": "2023-07-16T15:53:07.955089Z",
     "iopub.status.idle": "2023-07-16T15:53:07.961505Z",
     "shell.execute_reply": "2023-07-16T15:53:07.959713Z"
    },
    "id": "7f0df342",
    "papermill": {
     "duration": 0.021944,
     "end_time": "2023-07-16T15:53:07.964439",
     "exception": false,
     "start_time": "2023-07-16T15:53:07.942495",
     "status": "completed"
    },
    "tags": []
   },
   "outputs": [],
   "source": [
    "y_test = list(y_test)"
   ]
  },
  {
   "cell_type": "code",
   "execution_count": 21,
   "id": "5aae8d65",
   "metadata": {
    "colab": {
     "base_uri": "https://localhost:8080/",
     "height": 472
    },
    "execution": {
     "iopub.execute_input": "2023-07-16T15:53:07.989576Z",
     "iopub.status.busy": "2023-07-16T15:53:07.989135Z",
     "iopub.status.idle": "2023-07-16T15:53:08.319590Z",
     "shell.execute_reply": "2023-07-16T15:53:08.318212Z"
    },
    "id": "5aae8d65",
    "outputId": "9f28969a-74fa-4f4b-e972-83c2ec527c7e",
    "papermill": {
     "duration": 0.346138,
     "end_time": "2023-07-16T15:53:08.322398",
     "exception": false,
     "start_time": "2023-07-16T15:53:07.976260",
     "status": "completed"
    },
    "tags": []
   },
   "outputs": [
    {
     "data": {
      "image/png": "[encoded data removed]",
      "text/plain": [
       "<Figure size 640x480 with 1 Axes>"
      ]
     },
     "metadata": {},
     "output_type": "display_data"
    }
   ],
   "source": [
    "plt.plot(y_test, color='Red', label = 'Actual Value')\n",
    "plt.plot(test_data_prediction, color='skyblue', label='Predicted Value')\n",
    "plt.title('Actual Price vs Predicted Price')\n",
    "plt.xlabel('Number of values')\n",
    "plt.ylabel('GLD Price')\n",
    "plt.legend()\n",
    "plt.show()"
   ]
  },
  {
   "cell_type": "code",
   "execution_count": 43,
   "id": "W2YTJF2_rL_c",
   "metadata": {
    "colab": {
     "base_uri": "https://localhost:8080/"
    },
    "id": "W2YTJF2_rL_c",
    "outputId": "d1c100b2-920a-4269-d05e-ab1ab48fac5b"
   },
   "outputs": [
    {
     "name": "stdout",
     "output_type": "stream",
     "text": [
      "Predicted Gold Price: [151.66041921]\n"
     ]
    },
    {
     "name": "stderr",
     "output_type": "stream",
     "text": [
      "/usr/local/lib/python3.10/dist-packages/sklearn/base.py:439: UserWarning: X does not have valid feature names, but StandardScaler was fitted with feature names\n",
      "  warnings.warn(\n"
     ]
    }
   ],
   "source": [
    "input_data = np.array([[1447.160034,\t84.860001,\t78.470001,\t15.180\t]])\n",
    "predicted_price=regressor.predict(scaler.transform(input_data))\n",
    "\n",
    "print(f\"Predicted Gold Price: {predicted_price}\")"
   ]
  },
  {
   "cell_type": "code",
   "execution_count": 44,
   "id": "YJBvWJUvocD1",
   "metadata": {
    "id": "YJBvWJUvocD1"
   },
   "outputs": [],
   "source": [
    "import pickle"
   ]
  },
  {
   "cell_type": "code",
   "execution_count": 45,
   "id": "i76aFE6prFAc",
   "metadata": {
    "id": "i76aFE6prFAc"
   },
   "outputs": [],
   "source": [
    "pickle.dump(regressor,open('regmodel.pkl','wb'))"
   ]
  },
  {
   "cell_type": "code",
   "execution_count": 46,
   "id": "RUK-RRyosXXC",
   "metadata": {
    "id": "RUK-RRyosXXC"
   },
   "outputs": [],
   "source": [
    "pickled_model=pickle.load(open('regmodel.pkl','rb'))"
   ]
  },
  {
   "cell_type": "code",
   "execution_count": 47,
   "id": "Pdew1bEuttzS",
   "metadata": {
    "colab": {
     "base_uri": "https://localhost:8080/"
    },
    "id": "Pdew1bEuttzS",
    "outputId": "40139bef-e8a4-4301-e6b5-fa29e6c763b5"
   },
   "outputs": [
    {
     "data": {
      "text/plain": [
       "array([151.66250254])"
      ]
     },
     "execution_count": 47,
     "metadata": {},
     "output_type": "execute_result"
    }
   ],
   "source": [
    "pickled_model.predict(input_data)"
   ]
  },
  {
   "cell_type": "code",
   "execution_count": null,
   "id": "hsHScy7Xty3R",
   "metadata": {
    "id": "hsHScy7Xty3R"
   },
   "outputs": [],
   "source": [
    ""
   ]
  }
 ],
 "metadata": {
  "colab": {
   "provenance": []
  },
  "kernelspec": {
   "display_name": "Python 3",
   "language": "python",
   "name": "python3"
  },
  "language_info": {
   "codemirror_mode": {
    "name": "ipython",
    "version": 3
   },
   "file_extension": ".py",
   "mimetype": "text/x-python",
   "name": "python",
   "nbconvert_exporter": "python",
   "pygments_lexer": "ipython3",
   "version": "3.10.12"
  },
  "papermill": {
   "default_parameters": {},
   "duration": 20.98991,
   "end_time": "2023-07-16T15:53:10.628394",
   "environment_variables": {},
   "exception": null,
   "input_path": "__notebook__.ipynb",
   "output_path": "__notebook__.ipynb",
   "parameters": {},
   "start_time": "2023-07-16T15:52:49.638484",
   "version": "2.4.0"
  }
 },
 "nbformat": 4,
 "nbformat_minor": 5
}
